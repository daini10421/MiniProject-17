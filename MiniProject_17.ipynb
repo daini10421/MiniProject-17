{
  "nbformat": 4,
  "nbformat_minor": 0,
  "metadata": {
    "colab": {
      "provenance": [],
      "authorship_tag": "ABX9TyNot2AbZLpeJQb0T2AGWDlW",
      "include_colab_link": true
    },
    "kernelspec": {
      "name": "python3",
      "display_name": "Python 3"
    },
    "language_info": {
      "name": "python"
    }
  },
  "cells": [
    {
      "cell_type": "markdown",
      "metadata": {
        "id": "view-in-github",
        "colab_type": "text"
      },
      "source": [
        "<a href=\"https://colab.research.google.com/github/daini10421/MiniProject-17/blob/main/MiniProject_17.ipynb\" target=\"_parent\"><img src=\"https://colab.research.google.com/assets/colab-badge.svg\" alt=\"Open In Colab\"/></a>"
      ]
    },
    {
      "cell_type": "markdown",
      "source": [
        "# **\"Convert Colored Video to Grey Scale (b/w)\" using OpenCV**"
      ],
      "metadata": {
        "id": "mv6kJWkdr3sn"
      }
    },
    {
      "cell_type": "code",
      "execution_count": 1,
      "metadata": {
        "colab": {
          "base_uri": "https://localhost:8080/"
        },
        "id": "jD-z_WJ1rmGP",
        "outputId": "d3343173-efc3-4bbb-fbeb-f10979dfd8ca"
      },
      "outputs": [
        {
          "output_type": "stream",
          "name": "stdout",
          "text": [
            "Video converted to grayscale successfully.\n"
          ]
        }
      ],
      "source": [
        "import cv2\n",
        "import os\n",
        "import requests\n",
        "from urllib.parse import urlparse\n",
        "\n",
        "# GitHub video file URL\n",
        "video_url = \"https://raw.githubusercontent.com/daini10421/ColouredVideo/main/pexels-hicham-yah-2025634-1280x720-25fps.mp4\"\n",
        "\n",
        "# Parse the URL\n",
        "parsed_url = urlparse(video_url)\n",
        "\n",
        "# Fetch the video filename from the URL\n",
        "video_filename = os.path.basename(parsed_url.path)\n",
        "\n",
        "try:\n",
        "    # Download the video using requests\n",
        "    response = requests.get(video_url)\n",
        "    with open(video_filename, 'wb') as f:\n",
        "        f.write(response.content)\n",
        "\n",
        "    # Open the video file\n",
        "    video = cv2.VideoCapture(video_filename)\n",
        "\n",
        "    # Check if the video file was successfully opened\n",
        "    if not video.isOpened():\n",
        "        print(\"Error opening video file.\")\n",
        "        exit()\n",
        "\n",
        "    # Get the video's frames per second (fps) and dimensions\n",
        "    fps = video.get(cv2.CAP_PROP_FPS)\n",
        "    width = int(video.get(cv2.CAP_PROP_FRAME_WIDTH))\n",
        "    height = int(video.get(cv2.CAP_PROP_FRAME_HEIGHT))\n",
        "\n",
        "    # Create a VideoWriter object to save the grayscale video\n",
        "    output_path = \"path/to/output_gray.mp4\"\n",
        "    output = cv2.VideoWriter(output_path, cv2.VideoWriter_fourcc(*\"mp4v\"), fps, (width, height), isColor=False)\n",
        "\n",
        "    # Process each frame of the video\n",
        "    while True:\n",
        "        # Read a frame from the video\n",
        "        ret, frame = video.read()\n",
        "\n",
        "        # If the frame was not read successfully, end the loop\n",
        "        if not ret:\n",
        "            break\n",
        "\n",
        "        # Convert the frame to grayscale\n",
        "        gray_frame = cv2.cvtColor(frame, cv2.COLOR_BGR2GRAY)\n",
        "\n",
        "        # Write the grayscale frame to the output video file\n",
        "        output.write(gray_frame)\n",
        "\n",
        "    # Release the resources\n",
        "    video.release()\n",
        "    output.release()\n",
        "\n",
        "    # Remove the downloaded video file\n",
        "    os.remove(video_filename)\n",
        "\n",
        "    print(\"Video converted to grayscale successfully.\")\n",
        "\n",
        "except Exception as e:\n",
        "    print(f\"Error processing video: {video_url}\")\n",
        "    print(f\"Error message: {str(e)}\")\n"
      ]
    }
  ]
}